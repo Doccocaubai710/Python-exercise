{
  "nbformat": 4,
  "nbformat_minor": 0,
  "metadata": {
    "colab": {
      "name": "Exercise Python.ipynb",
      "provenance": [],
      "toc_visible": true,
      "collapsed_sections": []
    },
    "kernelspec": {
      "name": "python3",
      "display_name": "Python 3"
    },
    "language_info": {
      "name": "python"
    }
  },
  "cells": [
    {
      "cell_type": "markdown",
      "source": [
        "# Practice 1: Control flow"
      ],
      "metadata": {
        "id": "SPuXjCAIMzAK"
      }
    },
    {
      "cell_type": "markdown",
      "source": [
        "Ex2:Write a program to determine if 3 distinct points create an acute, right, obtuse triangle or a straight line, given the coordinates of the points"
      ],
      "metadata": {
        "id": "17nBHQ7xNey9"
      }
    },
    {
      "cell_type": "code",
      "execution_count": null,
      "metadata": {
        "colab": {
          "base_uri": "https://localhost:8080/"
        },
        "id": "1XTm4u3tMTin",
        "outputId": "7a79b61c-b5e4-4500-d916-05bbaff99e57"
      },
      "outputs": [
        {
          "output_type": "stream",
          "name": "stdout",
          "text": [
            "3 7 8 9 2 1\n",
            "Obtuse triangle\n"
          ]
        }
      ],
      "source": [
        "import math\n",
        "\n",
        "\n",
        "ax, ay, bx, by, cx, cy= [float(i) for i in input().split()]\n",
        "L1=math.sqrt((ax-bx)**2+(ay-by)**2)\n",
        "L2=math.sqrt((ax-cx)**2+(ay-cy)**2)\n",
        "L3=math.sqrt((bx-cx)**2+(by-cy)**2)\n",
        "if (L1+L2>L3) and (L1+L3>L2) and (L2+L3>L1):\n",
        "    if (L1**2+L2**2<L3**2) or (L1**2+L3**2<L2**2) or (L2**2+L3**2<L1*2):\n",
        "        print('Obtuse triangle')\n",
        "    elif (L1**2+L2**2==L3**2) or (L2**2+L3**2==L1**2) or (L1**2+L3**2==L2**2):\n",
        "        print('Right triangle')\n",
        "    elif (L1**2+L2**2>L3**2) and (L2**2+L3**2>L1**2) and (L1**2+L3**2>L2**2):\n",
        "        print('Acute triangle') \n",
        "else:\n",
        "    print('Straight line')      "
      ]
    },
    {
      "cell_type": "markdown",
      "source": [
        "Ex3:GrabBike's pricing in Hanoi is calculated as follow: for the first 2km, the customer will be charged VND 12,000 and for each next km, he will be charged VND 3,500. In addition, after the first 2km, the customer will be charged VND 350 for each minute travel.\n",
        "\n",
        "Given the distance and the average speed (assume that the speed is constant), calculate the amount of money that the customer has to pay\n",
        "\n"
      ],
      "metadata": {
        "id": "_ozwuy2XNqfN"
      }
    },
    {
      "cell_type": "code",
      "source": [
        "distance=float(input())\n",
        "speed=float(input())\n",
        "if (distance<=2):\n",
        "  price=12000\n",
        "else: \n",
        "  time=(distance-2)/speed\n",
        "  price=12000+time*350+(distance-2)*3500\n",
        "print('{:.2f}'.format(price))    \n",
        "\n"
      ],
      "metadata": {
        "id": "0ZUHUn4ANxy6"
      },
      "execution_count": null,
      "outputs": []
    },
    {
      "cell_type": "markdown",
      "source": [
        "\n",
        "\n",
        "1.   Exercise 4\n",
        "The Collatz conjecture is a conjecture in mathematics that concerns a sequence defined as follows: start with any positive integer n. If the previous term is even, the next term is one half of the previous term. If the previous term is odd, the next term is 3 times the previous term plus 1. The conjecture is that no matter what value of n, the sequence will always reach 1.\n",
        "\n",
        "For instance, starting with n = 12, one gets the sequence 12, 6, 3, 10, 5, 16, 8, 4, 2, 1.\n",
        "\n",
        "Given the starting number, print the value of all the numbers in its path to 1\n",
        "\n"
      ],
      "metadata": {
        "id": "5z-J9tmTP7na"
      }
    },
    {
      "cell_type": "code",
      "source": [
        "n=int(input())\n",
        "print(n,end=' ')\n",
        "while (n!=1):\n",
        "  if n%2==0:\n",
        "    n/=2\n",
        "  else:\n",
        "    n*=3\n",
        "    n+=1\n",
        "  print(int(n),end=' ')"
      ],
      "metadata": {
        "colab": {
          "base_uri": "https://localhost:8080/"
        },
        "id": "NJ4Ngv8sQDiZ",
        "outputId": "63d66965-c556-471a-a63f-78a1d1872782"
      },
      "execution_count": null,
      "outputs": [
        {
          "output_type": "stream",
          "name": "stdout",
          "text": [
            "42\n",
            "42 21 64 32 16 8 4 2 1 "
          ]
        }
      ]
    },
    {
      "cell_type": "markdown",
      "source": [
        "Exercise 5\n",
        "Write a program to check if an integer is a prime number or not"
      ],
      "metadata": {
        "id": "F9T-pUJyS21R"
      }
    },
    {
      "cell_type": "code",
      "source": [
        "from math import*\n",
        "\n",
        "\n",
        "n=int(input())\n",
        "Check=False\n",
        "if (n<=1):\n",
        "  print(Check)\n",
        "if (n==2) or (n==3):\n",
        "  Check=True\n",
        "  print(Check)\n",
        "elif (n>=4):\n",
        "  Check=True\n",
        "  r=int(sqrt(n))\n",
        "  for i in range(2,r+1):\n",
        "    if (n%i==0):\n",
        "      Check=False\n",
        "      break\n",
        "  print(Check)"
      ],
      "metadata": {
        "colab": {
          "base_uri": "https://localhost:8080/"
        },
        "id": "b6qIfiuVS4kW",
        "outputId": "703d1115-fdf3-4e17-cbba-41a6fc282e21"
      },
      "execution_count": null,
      "outputs": [
        {
          "output_type": "stream",
          "name": "stdout",
          "text": [
            "61683248493\n",
            "False\n"
          ]
        }
      ]
    },
    {
      "cell_type": "markdown",
      "source": [
        "Exercise 6\n",
        "Print a shape that looks like the one below, given the height"
      ],
      "metadata": {
        "id": "9r8-nDV4WIby"
      }
    },
    {
      "cell_type": "code",
      "source": [
        "n=int(input())\n",
        "i=1\n",
        "st='\\\\'\n",
        "while i in range(n+1):\n",
        "  print('_'*(n-i)+'/'+' '*(i*2-2)+st+'_'*(n-i))\n",
        "  i+=1\n"
      ],
      "metadata": {
        "id": "F6Wz5JdLdYpX",
        "colab": {
          "base_uri": "https://localhost:8080/"
        },
        "outputId": "c318fd67-d810-4ff8-8c2a-3f4ba1412d4b"
      },
      "execution_count": null,
      "outputs": [
        {
          "output_type": "stream",
          "name": "stdout",
          "text": [
            "3\n",
            "__/\\__\n",
            "_/  \\_\n",
            "/    \\\n"
          ]
        }
      ]
    },
    {
      "cell_type": "markdown",
      "source": [
        "Exercise 7\n",
        "One way of computing square roots is Newton's method. Suppose that you want to know the square root of a. If you start with (almost) any estimate x, then you can get a better estimate with the formula: y = (x + a/x)/2\n",
        "\n",
        "Given a non-negative number a, compute the square root of that number using Newton's method with the precision of 0.0000001"
      ],
      "metadata": {
        "id": "MurK3LJyjQBp"
      }
    },
    {
      "cell_type": "code",
      "source": [
        "from random import*\n",
        "x = uniform(0,10000)\n",
        "a=float(int(input()))\n",
        "while (abs(x**2-a)>=0.0000001):\n",
        "  x=(x+(a/x))/2\n",
        "print('{:.7f}'.format(x))"
      ],
      "metadata": {
        "colab": {
          "base_uri": "https://localhost:8080/"
        },
        "id": "MO-YzTQljUen",
        "outputId": "9e2773cf-1d5f-4f11-9f43-650196a38dc7"
      },
      "execution_count": null,
      "outputs": [
        {
          "output_type": "stream",
          "name": "stdout",
          "text": [
            "32\n",
            "5.6568542\n"
          ]
        }
      ]
    },
    {
      "cell_type": "code",
      "source": [],
      "metadata": {
        "id": "RXoNO-vuX84t"
      },
      "execution_count": null,
      "outputs": []
    },
    {
      "cell_type": "markdown",
      "source": [
        "Exercise 8\n",
        "Using the code from exercise 7 and math.sqrt function from math library, print a table that describe the differences between the estimation in each step and the value computed by math.sqrt function\n",
        "\n"
      ],
      "metadata": {
        "id": "sC4ac602XUTT"
      }
    },
    {
      "cell_type": "code",
      "source": [],
      "metadata": {
        "id": "8n52CyTeXr4p"
      },
      "execution_count": null,
      "outputs": []
    },
    {
      "cell_type": "markdown",
      "source": [
        "An Amstrong number of 3 digit is an integer that the sum of \n",
        "the cubes of its digits is equal to the number itself. Find \n",
        "Amstrong numbers of 3 digits"
      ],
      "metadata": {
        "id": "6iq5eQAzwrO9"
      }
    },
    {
      "cell_type": "code",
      "source": [
        "for i in range(100,1000,1):\n",
        "  c=i%10\n",
        "  b=((i-c)%10)%10\n",
        "  a=i//100\n",
        "  if (a**3+b**3+c**3==i):\n",
        "    print(i)"
      ],
      "metadata": {
        "colab": {
          "base_uri": "https://localhost:8080/"
        },
        "id": "GKES1fCwwskU",
        "outputId": "8e733b8e-9ab3-45ee-d02f-f98aa200ea15"
      },
      "execution_count": null,
      "outputs": [
        {
          "output_type": "stream",
          "name": "stdout",
          "text": [
            "407\n"
          ]
        }
      ]
    },
    {
      "cell_type": "markdown",
      "source": [
        "# Practice 1: Control flow(Part 2)"
      ],
      "metadata": {
        "id": "PqoHK7sbRFQ8"
      }
    },
    {
      "cell_type": "markdown",
      "source": [
        "Write a program that takes a positive integer n as input and returns the sum of all that number's digits."
      ],
      "metadata": {
        "id": "Vp5CjjekQ6o0"
      }
    },
    {
      "cell_type": "code",
      "source": [
        "n=input()\n",
        "sum=0\n",
        "for i in n:\n",
        "  sum+=int(i)\n",
        "print(sum)  \n"
      ],
      "metadata": {
        "colab": {
          "base_uri": "https://localhost:8080/"
        },
        "id": "-fDoMAm4RTvq",
        "outputId": "3c2fc15e-4dfa-4145-f24d-2a7b1043f2e0"
      },
      "execution_count": null,
      "outputs": [
        {
          "output_type": "stream",
          "name": "stdout",
          "text": [
            "12345678\n",
            "36\n"
          ]
        }
      ]
    },
    {
      "cell_type": "markdown",
      "source": [
        "Write a program to display the pattern like a diamond.\n",
        "\n",
        "Input:\n",
        "\n",
        "A single line that contains a positive number n\n",
        "\n",
        "Output:\n",
        "\n",
        "There are 2n-1 lines in total. The i-th line contains n-i spaces and 2*i-1 asterisks if 1 ≤ i ≤ n, and contains i-n spaces and 2(2n-i)-1 asterisks if n < i ≤ 2n-1."
      ],
      "metadata": {
        "id": "VBQCmY36Vgz_"
      }
    },
    {
      "cell_type": "code",
      "source": [
        "n=int(input())\n",
        "i=1\n",
        "while (i<=n):\n",
        "  print(' '*(n-i)+'*'*(2*i-1)+' '*(n-i))\n",
        "  i+=1\n",
        "while (i<=2*n-1):\n",
        "  print(' '*(i-n)+'*'*(4*n-2*i-1)+' '*(i-n))\n",
        "  i+=1  "
      ],
      "metadata": {
        "colab": {
          "base_uri": "https://localhost:8080/"
        },
        "id": "kInoLmL_Vlm_",
        "outputId": "b790247f-a2f3-4854-e7b1-ce6f5df4ac90"
      },
      "execution_count": null,
      "outputs": [
        {
          "output_type": "stream",
          "name": "stdout",
          "text": [
            "8\n",
            "       *       \n",
            "      ***      \n",
            "     *****     \n",
            "    *******    \n",
            "   *********   \n",
            "  ***********  \n",
            " ************* \n",
            "***************\n",
            " ************* \n",
            "  ***********  \n",
            "   *********   \n",
            "    *******    \n",
            "     *****     \n",
            "      ***      \n",
            "       *       \n"
          ]
        }
      ]
    },
    {
      "cell_type": "markdown",
      "source": [
        "Fibonacci sequence Fn is the sequence such that each number is the sum of the two preceding ones, starting from 0 and 1.\n",
        "\n",
        "F0 = 0, F1 = 1, \n",
        "\n",
        "Fn = Fn-1 + Fn-2, n ≥ 2\n",
        "\n",
        "Your task is to write a program that takes an integer n as input and output the n-th Fibonacci number"
      ],
      "metadata": {
        "id": "V0r-krCHYpbP"
      }
    },
    {
      "cell_type": "code",
      "source": [
        "n=int(input())\n",
        "if n==0:\n",
        "  sum=0\n",
        "if n==1:\n",
        "  sum=1\n",
        "else:\n",
        "  first=0\n",
        "  second=1\n",
        "  for i in range(n-1):\n",
        "      sum=first+second\n",
        "      first=second\n",
        "      second=sum\n",
        "print(sum)  \n",
        "      "
      ],
      "metadata": {
        "colab": {
          "base_uri": "https://localhost:8080/"
        },
        "id": "YbrcwjJEYq6F",
        "outputId": "362879c6-0b31-4b86-fe03-114b27c7291b"
      },
      "execution_count": null,
      "outputs": [
        {
          "output_type": "stream",
          "name": "stdout",
          "text": [
            "150\n",
            "9969216677189303386214405760200\n"
          ]
        }
      ]
    },
    {
      "cell_type": "markdown",
      "source": [
        "Write a program to display such a pattern for n number of rows using a number that will start with the number 1 and the first and the last number of each row will be 1.\n",
        "\n"
      ],
      "metadata": {
        "id": "wzyhi4OUbT-N"
      }
    },
    {
      "cell_type": "code",
      "source": [
        "n=int(input())\n",
        "i=1\n",
        "while i<=n:\n",
        "  space=' '*(n-i)\n",
        "  for j in range(1,i):\n",
        "    space+=str(j)\n",
        "  space+=str(i)  \n",
        "  for j in range (i-1,0,-1):\n",
        "    space+=str(j)\n",
        "  i+=1\n",
        "  print(space)  \n",
        "\n"
      ],
      "metadata": {
        "colab": {
          "base_uri": "https://localhost:8080/"
        },
        "id": "mGNgc4i1bnKZ",
        "outputId": "84704b09-e658-4cff-a695-a3f65a63666b"
      },
      "execution_count": null,
      "outputs": [
        {
          "output_type": "stream",
          "name": "stdout",
          "text": [
            "4\n",
            "   1\n",
            "  121\n",
            " 12321\n",
            "1234321\n"
          ]
        }
      ]
    },
    {
      "cell_type": "code",
      "source": [
        "def prime(a):\n",
        "    if a<=1:\n",
        "        return False\n",
        "    for i in range(2, int(a ** 1/2) + 1):\n",
        "        if a % i == 0:\n",
        "            return False\n",
        "    return True\n",
        "    def prime(a):\n",
        "    if a<=1:\n",
        "        return False\n",
        "    for i in range(2, int(a ** 1/2) + 1):\n",
        "        if a % i == 0:\n",
        "            return False\n",
        "    return True\n",
        "\n",
        "def if_sum_of_2_primes(a):\n",
        "    for i in range(2, int(a/2)):\n",
        "        if prime(i) and prime(a-i):\n",
        "            return True\n",
        "    return False\n",
        "\n",
        "n = int(input())\n",
        "for i in range(n):\n",
        "    x = int(input())\n",
        "    if if_sum_of_2_primes(x):\n",
        "        print('YES')\n",
        "    else:\n",
        "        print('NO')"
      ],
      "metadata": {
        "id": "XHbHzZAn0Y8z"
      },
      "execution_count": null,
      "outputs": []
    },
    {
      "cell_type": "markdown",
      "source": [
        "# Practice3: Strings, list, dictionaries and tuples"
      ],
      "metadata": {
        "id": "DhiaIUqBtvXZ"
      }
    },
    {
      "cell_type": "markdown",
      "source": [
        "Exercise 1\n",
        "Write a program to print a string consists of every second character of the string in reverse order starting from the last one and with the first character in the result string capitalized (the other characters are lowercase)\n",
        "\n",
        "Example: Input: abcdefg, Output: Geca\n"
      ],
      "metadata": {
        "id": "zcg-TKpNt5ss"
      }
    },
    {
      "cell_type": "code",
      "source": [
        "print(input()[::-2].capitalize())\n",
        "\n",
        "\n"
      ],
      "metadata": {
        "colab": {
          "base_uri": "https://localhost:8080/"
        },
        "id": "s2OjuG0ft-LM",
        "outputId": "ee6615f0-6323-4d19-b69b-e2a45d7006b4"
      },
      "execution_count": null,
      "outputs": [
        {
          "output_type": "stream",
          "name": "stdout",
          "text": [
            "ab\n",
            "B\n"
          ]
        }
      ]
    },
    {
      "cell_type": "markdown",
      "source": [
        "Exercise 2\n",
        "In naming convention of some languages, variables are often named using Camel case convention (for example: ArrayOfNumber), while in other languages (including Python), variables are named using Snake case convention (for example: array_of_number)\n",
        "\n",
        "Write a program to convert a string from Snake case to Camel case\n",
        "\n",
        "Example: Input: array_of_number, Output: ArrayOfNumber"
      ],
      "metadata": {
        "id": "3ZrMJpLqxRHW"
      }
    },
    {
      "cell_type": "code",
      "source": [
        "s=input()\n",
        "n=len(s)\n",
        "for i in range(n):\n",
        "  if s[i]=='_':\n",
        "    s=s.replace(s[i],' ')\n",
        "s=s.title()\n",
        "s=s.replace(' ','')\n",
        "print(s)    \n"
      ],
      "metadata": {
        "colab": {
          "base_uri": "https://localhost:8080/"
        },
        "id": "uadc-fCUxw0n",
        "outputId": "f910434d-c787-4c6a-fa48-a4d217a94fc4"
      },
      "execution_count": null,
      "outputs": [
        {
          "output_type": "stream",
          "name": "stdout",
          "text": [
            "array_of_number\n",
            "ArrayOfNumber\n"
          ]
        }
      ]
    },
    {
      "cell_type": "markdown",
      "source": [
        "Exercise 3\n",
        "Write a program to remove all the uneccessary spaces from a string, including leading, trailing whitespaces and multiple whitespaces in the middle of the sentence\n",
        "\n",
        "For example:\\ Input:\n",
        "\n",
        "   Hello   World from   Vietnam\n",
        "Output:\n",
        "\n",
        "Hello World from Vietnam"
      ],
      "metadata": {
        "id": "mcCSnkQnhiC8"
      }
    },
    {
      "cell_type": "code",
      "source": [
        "import re\n",
        "print(re.sub(' +', ' ', input()).strip())\n",
        "\n"
      ],
      "metadata": {
        "colab": {
          "base_uri": "https://localhost:8080/"
        },
        "id": "NW3gsxJAhmJ8",
        "outputId": "222bd5b7-e667-4691-ae26-8e48e3d71106"
      },
      "execution_count": null,
      "outputs": [
        {
          "output_type": "stream",
          "name": "stdout",
          "text": [
            "     Say        hi     from     Vietnam\n",
            "Say hi from Vietnam\n"
          ]
        }
      ]
    },
    {
      "cell_type": "markdown",
      "source": [
        "Exercise 4\n",
        "Write a function that returns the mirror image of a string (contains lowercase characters only) if that mirror image is still a valid string. Otherwise, return \"NOT POSSIBLE\".\n",
        "\n",
        "Note: b,d, i, o, p, q, v, w, x are characters with the mirror images still valid English characters\n",
        "\n",
        "Example: Input: void, Output: biov"
      ],
      "metadata": {
        "id": "1qT8Qe14_fYT"
      }
    },
    {
      "cell_type": "code",
      "source": [
        "def reverse(s):\n",
        "  m=''\n",
        "  i=len(s)\n",
        "  while i>0:\n",
        "    m+=s[i-1]\n",
        "    i-=1\n",
        "  return m  \n",
        "def mirror(s):\n",
        "  dict={'b':'d','d':'b','i':'i','o':'o','p':'q','q':'p','v':'v','w':'w','x':'x',' ':' '}\n",
        "  res=''\n",
        "  s=reverse(s)\n",
        "  for c in s:\n",
        "    if c in dict:\n",
        "      res+=dict[c]\n",
        "    else:\n",
        "      res='NOT POSSIBLE'\n",
        "      break\n",
        "  return res \n",
        "s=input()\n",
        "print(mirror(s))\n",
        "\n"
      ],
      "metadata": {
        "id": "AFbkha0fosEY",
        "colab": {
          "base_uri": "https://localhost:8080/"
        },
        "outputId": "15907547-e6d2-465c-cea6-49f9558a5cb2"
      },
      "execution_count": null,
      "outputs": [
        {
          "output_type": "stream",
          "name": "stdout",
          "text": [
            "biov biov\n",
            "void void\n"
          ]
        }
      ]
    },
    {
      "cell_type": "code",
      "source": [
        "def transform_string(s):\n",
        "    i=len(s)-1\n",
        "    newstr=''\n",
        "    if (i+1)%4==0:\n",
        "        while i>=0:\n",
        "            newstr+=s[i]\n",
        "            i-=1\n",
        "    else:\n",
        "        for i in range(i+1):\n",
        "            if i%2==0:\n",
        "                newstr+=s[i+1]\n",
        "    return newstr\n",
        "print(transform_string('Dai hoc bach khoa ha noi'))\n",
        "print(transform_string('DHBKHN'))"
      ],
      "metadata": {
        "colab": {
          "base_uri": "https://localhost:8080/"
        },
        "id": "eaMEFC0u8sf6",
        "outputId": "0fe8a25b-cf77-4626-afd5-79ab2803791a"
      },
      "execution_count": null,
      "outputs": [
        {
          "output_type": "stream",
          "name": "stdout",
          "text": [
            "ion ah aohk hcab coh iaD\n",
            "HKN\n"
          ]
        }
      ]
    },
    {
      "cell_type": "markdown",
      "source": [
        "Write a function to remove all consecutive duplicates in a list and return the new list\n",
        "\n",
        "Example:\\ Input\n",
        "\n",
        "[1, 0, 0, 1, 2, 3, 4, 4, 5, 6, 6, 6, 7, 8, 9, 4, 4, 5, 5]\n",
        "Output\n",
        "\n",
        "[1, 0, 1, 2, 3, 4, 5, 6, 7, 8, 9, 4, 5]"
      ],
      "metadata": {
        "id": "Wo-82nLLVhav"
      }
    },
    {
      "cell_type": "markdown",
      "source": [
        "Part2:Basic tuples, lists and dictionaries"
      ],
      "metadata": {
        "id": "njHeihoShk4T"
      }
    },
    {
      "cell_type": "markdown",
      "source": [
        "Exercise 5\n",
        "Write a function to remove all consecutive duplicates in a list and return the new list\n",
        "\n",
        "Example:\\ Input\n",
        "\n",
        "[1, 0, 0, 1, 2, 3, 4, 4, 5, 6, 6, 6, 7, 8, 9, 4, 4, 5, 5]\n",
        "Output\n",
        "\n",
        "[1, 0, 1, 2, 3, 4, 5, 6, 7, 8, 9, 4, 5]"
      ],
      "metadata": {
        "id": "6QoXF-DVhwEp"
      }
    },
    {
      "cell_type": "code",
      "source": [
        "def remove_duplicates(s):\n",
        "    previous_value=None\n",
        "    newlist=[]\n",
        "    for i in x:\n",
        "      if i!=previous_value:\n",
        "        newlist.append(i)\n",
        "        previous_value=i\n",
        "    print(newlist)\n",
        "x=[1,0,0,2,3]\n",
        "remove_duplicates(x)        \n",
        "\n",
        " \n"
      ],
      "metadata": {
        "colab": {
          "base_uri": "https://localhost:8080/"
        },
        "id": "vm9UDGZeh1wT",
        "outputId": "724664c0-39ce-4840-df6a-ddd7e2ff4187"
      },
      "execution_count": null,
      "outputs": [
        {
          "output_type": "stream",
          "name": "stdout",
          "text": [
            "[1, 0, 2, 3]\n"
          ]
        }
      ]
    },
    {
      "cell_type": "markdown",
      "source": [
        "Exercise 6\n",
        "Write a program to read 2 matrices and output their sum. Example:\n",
        "\n",
        "Input (the first line contains 2 dimensions M * N of each matrix, the next M lines contains the first matrix and the last M lines contains the second matrix)"
      ],
      "metadata": {
        "id": "V6nkdrxtk76g"
      }
    },
    {
      "cell_type": "code",
      "source": [
        "size=input().split()\n",
        "m,n=int(size[0]),int(size[1])\n",
        "a=[]\n",
        "b=[]\n",
        "for i in range(m):\n",
        "  a.append(input().split(' '))\n",
        "for i in range(m):\n",
        "  b.append(input().split(' '))\n",
        "for i in range(m):\n",
        "  for j in range(n):\n",
        "    print(int(a[i][j])+int(b[i][j]),end=' ')\n",
        "  print('')      "
      ],
      "metadata": {
        "colab": {
          "base_uri": "https://localhost:8080/"
        },
        "id": "d0pEGo4BlAiW",
        "outputId": "f3a9f507-665b-4508-fdee-7a638b401482"
      },
      "execution_count": null,
      "outputs": [
        {
          "output_type": "stream",
          "name": "stdout",
          "text": [
            "2 3 \n",
            "1 2 3\n",
            "4 5 6\n",
            "7 8 9\n",
            "10 11 12\n",
            "8 10 12 \n",
            "14 16 18 \n"
          ]
        }
      ]
    },
    {
      "cell_type": "markdown",
      "source": [
        "Exercise 7\n",
        "Write a function to sort the list of tuples of students by the students' scores. If they have the same scores, sort the students by their names.\n",
        "\n",
        "Example:\\ Input\n",
        "\n",
        "[('John', 9.75), ('Max', 9.5), ('James', 9.5), ('Henry', 8.5)]\n",
        "Output\n",
        "\n",
        "[('Henry', 8.5), ('James', 9.5), ('Max', 9.5), ('John', 9.75)]\n",
        "Hint: use sorted function with key for quick sorting (or implement your own sort function)"
      ],
      "metadata": {
        "id": "SvmMveqG2MSS"
      }
    },
    {
      "cell_type": "code",
      "source": [
        "def sort_students(l):\n",
        "    x=sorted([(v,k) for k,v in l])\n",
        "    y=[(v,k) for k,v in x ]\n",
        "    return y\n",
        "print(sort_students([('John', 9.75), ('Max', 9.5), ('James', 9.5), ('Henry', 8.5)]))    "
      ],
      "metadata": {
        "id": "tzGxRAi92NjS",
        "colab": {
          "base_uri": "https://localhost:8080/"
        },
        "outputId": "70d7747c-9cd4-4ef2-e525-d34e52b41f7b"
      },
      "execution_count": null,
      "outputs": [
        {
          "output_type": "stream",
          "name": "stdout",
          "text": [
            "[('Henry', 8.5), ('James', 9.5), ('Max', 9.5), ('John', 9.75)]\n"
          ]
        }
      ]
    },
    {
      "cell_type": "markdown",
      "source": [
        "Ex8:Write a function that return a dictionary of each character frequency in the string\n",
        "For example:\n",
        "\n",
        "Test\tResult\n",
        "print(dictionary_convert('edcbaabcd'))\n",
        "# {'e': 1, 'd': 2, 'c': 2, 'b': 2, 'a': 2}"
      ],
      "metadata": {
        "id": "ki1RAml29bq1"
      }
    },
    {
      "cell_type": "code",
      "source": [
        "def dictionary_convert(s):\n",
        "    counts=dict()\n",
        "    for word in s:\n",
        "        counts[word] = counts.get(word, 0) + 1\n",
        "    return counts"
      ],
      "metadata": {
        "id": "MeCRs8v39c9s"
      },
      "execution_count": null,
      "outputs": []
    },
    {
      "cell_type": "markdown",
      "source": [
        "Ex9: Write a function using list comprehension that takes a list as input and return the list with all even numbers doubled, and all odd numbers turned negative"
      ],
      "metadata": {
        "id": "FG2108Vx9k_1"
      }
    },
    {
      "cell_type": "code",
      "source": [
        "def transform(l):\n",
        "    x=[]\n",
        "    for i in l:\n",
        "        if i%2==0:\n",
        "            x.append(i*2)\n",
        "        else:\n",
        "            x.append(i*(-1))\n",
        "    return x"
      ],
      "metadata": {
        "id": "4iudiY7a-WQJ"
      },
      "execution_count": null,
      "outputs": []
    },
    {
      "cell_type": "markdown",
      "source": [
        "Write a program using list comprehension that print a matrix consists of increasing element (starting from 1), given its dimension"
      ],
      "metadata": {
        "id": "2e4D_D4U-jlW"
      }
    },
    {
      "cell_type": "code",
      "source": [
        "tmp=input().split(' ')\n",
        "m,n=int(tmp[0]),int(tmp[1])\n",
        "a=1\n",
        "for i in range(m):\n",
        "    for j in range(n):\n",
        "        print(a,end=' ')\n",
        "        a+=1\n",
        "    print(''"
      ],
      "metadata": {
        "id": "nLsJkr3G_UNO"
      },
      "execution_count": null,
      "outputs": []
    },
    {
      "cell_type": "markdown",
      "source": [
        "Write a program using list comprehension that returns the Caesar encryption of a lowercase string, given the shift length. Note: in Caesar encryption, each letter is shifted to the right in the alphabet by a distance (if the end of the alphabet is reached, the shift will start over from letter a)"
      ],
      "metadata": {
        "id": "m42DGTME_VNR"
      }
    },
    {
      "cell_type": "code",
      "source": [
        "n=int(input())\n",
        "s=input()\n",
        "dic=['a','b','c','d','e','f','g','h','i','j','k','l','m','n','o','p','q','r','s','t','u','v','w','x','y','z']\n",
        "result=[dic[(dic.index(i)+n)%26] if i in dic else ' ' for i in s]\n",
        "for re in result:\n",
        "    print(re,end='')"
      ],
      "metadata": {
        "id": "mpZq-04Nf_r3"
      },
      "execution_count": null,
      "outputs": []
    },
    {
      "cell_type": "markdown",
      "source": [
        "Write a function to compute the distance between 2 vectors (it is guarantee that the 2 vectors have the same shape). Type of distance is a keyword argument, which can be either 'manhattan', 'cosine' (with 9 decimal places), or 'euclidean' (with 1 decimal place). If no type of distance or other types of distance is specified, the distance will be computed with euclidean norm"
      ],
      "metadata": {
        "id": "77yN0WzjiVa-"
      }
    },
    {
      "cell_type": "code",
      "source": [
        "from math import sqrt\n",
        "\n",
        "def vector_distance(v1, v2, **kwargs):\n",
        "    a=dict(**kwargs)\n",
        "    m=0\n",
        "    l1=0\n",
        "    l2=0\n",
        "    if len(a)==0:\n",
        "        a={'norm':'euclidean'}\n",
        "    if a['norm']=='euclidean':\n",
        "        for i in range(len(v1)):\n",
        "            m+=(v1[i]-v2[i])**2\n",
        "        m='{:.1f}'.format(sqrt(m))\n",
        "    elif a['norm']=='manhattan':\n",
        "        for i in range(len(v1)):\n",
        "            m+=abs(v1[i]-v2[i])\n",
        "    elif a['norm']=='cosine':\n",
        "        for i in range(len(v1)):\n",
        "            m+=v1[i]*v2[i]\n",
        "            l1+=v1[i]**2\n",
        "            l2+=v2[i]**2\n",
        "        m='{:.9f}'.format(m/(sqrt(l1)*sqrt(l2)))\n",
        "    return m"
      ],
      "metadata": {
        "id": "LVzjLX33k6Wf"
      },
      "execution_count": null,
      "outputs": []
    },
    {
      "cell_type": "markdown",
      "source": [
        "# Slides:Functions:In class "
      ],
      "metadata": {
        "id": "UzUuOAhHsMaR"
      }
    },
    {
      "cell_type": "markdown",
      "source": [
        "Write a function is_prime(n) to check if n is a prime number or not. The function returns True if n is a prime number, and return False otherwise."
      ],
      "metadata": {
        "id": "_NKDe1fJsSRA"
      }
    },
    {
      "cell_type": "code",
      "source": [
        "def is_prime(a):\n",
        "    if a<=1:\n",
        "        return False\n",
        "    for i in range(2, int(a ** 1/2) + 1):\n",
        "        if a % i == 0:\n",
        "            return False\n",
        "    return True\n"
      ],
      "metadata": {
        "id": "mZkjVPgAshmd"
      },
      "execution_count": null,
      "outputs": []
    },
    {
      "cell_type": "markdown",
      "source": [
        "Write a function prime_list(k) to print all prime numbers that are not greater then k.\n",
        "\n",
        "For example:\n",
        "\n",
        "Test\tResult\n",
        "prime_list(20)\n",
        "prime_list(10)\n",
        "2 3 5 7 11 13 17 19\n",
        "2 3 5 7\n"
      ],
      "metadata": {
        "id": "i6G-Tl8Q2PFQ"
      }
    },
    {
      "cell_type": "code",
      "source": [
        "def prime(a):\n",
        "    if a<=1:\n",
        "        return False\n",
        "    for i in range(2, int(a ** 1/2) + 1):\n",
        "        if a % i == 0:\n",
        "            return False\n",
        "    return True\n",
        "def prime_list(k):\n",
        "    for i in range(2,k+1):\n",
        "        if prime(i):\n",
        "            print(i, end = ' ')\n",
        "    print()"
      ],
      "metadata": {
        "id": "48keur1J2TSV"
      },
      "execution_count": null,
      "outputs": []
    },
    {
      "cell_type": "code",
      "source": [
        "def sum(n,k):\n",
        "    h=0\n",
        "    for i in range(1,n+1):\n",
        "        if i%k!=0:\n",
        "            h+=i\n",
        "    print(h,end=' ')\n",
        "    return ''"
      ],
      "metadata": {
        "id": "4fjYT5vk5JXB"
      },
      "execution_count": null,
      "outputs": []
    },
    {
      "cell_type": "markdown",
      "source": [
        "# In class recursive"
      ],
      "metadata": {
        "id": "jvUwxZ6KSuM4"
      }
    },
    {
      "cell_type": "markdown",
      "source": [
        "Write a recursive function gd(a, b) to find the greatest common divisor of 2 positive integers."
      ],
      "metadata": {
        "id": "4JUprsCxS1C8"
      }
    },
    {
      "cell_type": "code",
      "source": [
        "def gd(a,b):\n",
        "    if b==0:\n",
        "        return a\n",
        "    if a==0:\n",
        "        return b\n",
        "    if (a!=0) and (b!=0):\n",
        "        if a>b:\n",
        "            return gd(a%b,b)\n",
        "        else:\n",
        "            return gd(a,b%a)"
      ],
      "metadata": {
        "id": "lC_0q_6eS7oi"
      },
      "execution_count": null,
      "outputs": []
    },
    {
      "cell_type": "markdown",
      "source": [
        "Write a recursive function \u001df(\u001dn) to \bcalculate the n-th element of the following sequence:\n",
        "\n",
        "a1 = 1, a2 = 2, an = an-1 + 2 * an-2"
      ],
      "metadata": {
        "id": "btwmjLCUTUwy"
      }
    },
    {
      "cell_type": "code",
      "source": [
        "def f(n):\n",
        "    if n==1:\n",
        "        return 1\n",
        "    if n==2:\n",
        "        return 2\n",
        "    if n>2:\n",
        "        return f(n-1)+2*f(n-2)"
      ],
      "metadata": {
        "id": "Joaj5uy_TV3Q"
      },
      "execution_count": null,
      "outputs": []
    },
    {
      "cell_type": "markdown",
      "source": [
        "Write a function \u001dbinary(\u001dn) to compute the number of binary strings of length n that do not contain two successive zeros.\n",
        "\n",
        "For example:\n",
        "\n",
        "Test\tResult\n",
        "print(binary(1))\n",
        "print(binary(3))\n",
        "2\n",
        "5\n",
        "Answer:(penalty regime: 10, 20, ... %)\n"
      ],
      "metadata": {
        "id": "cuFo07esVdAW"
      }
    },
    {
      "cell_type": "markdown",
      "source": [
        "Let a[i] be the number of binary strings of length i which do not contain any two consecutive 1’s and which end in 0. Similarly, let b[i] be the number of such strings which end in 1. We can append either 0 or 1 to a string ending in 0, but we can only append 0 to a string ending in 1"
      ],
      "metadata": {
        "id": "5Cs2ok1ueYKG"
      }
    },
    {
      "cell_type": "code",
      "source": [],
      "metadata": {
        "id": "DOrftvlbVkGa"
      },
      "execution_count": null,
      "outputs": []
    },
    {
      "cell_type": "markdown",
      "source": [
        "# Practice2: Functions"
      ],
      "metadata": {
        "id": "RjhJhXKWmuec"
      }
    },
    {
      "cell_type": "markdown",
      "source": [
        "In number theory, a perfect number is a positive integer that is equal to the sum of its proper positive divisors, that is, the sum of its positive divisors excluding the number itself.\n",
        "\n",
        "Write a function is_perfect(n) to check whether a given number n is a perfect number or not."
      ],
      "metadata": {
        "id": "nYKCj_jCm34h"
      }
    },
    {
      "cell_type": "code",
      "source": [
        "def is_perfect(n):\n",
        "    sum=0\n",
        "    for i in range(1,n):\n",
        "        if n%i==0:\n",
        "            sum+=i\n",
        "    if sum==n:\n",
        "        return True\n",
        "    else:\n",
        "        return False"
      ],
      "metadata": {
        "id": "JHajCesTm6Qa"
      },
      "execution_count": null,
      "outputs": []
    },
    {
      "cell_type": "markdown",
      "source": [
        "Write a Python function to print the first n<sup>th</sup> lines (n > 0) of the Pascal triangle. Note: you can define additional functions for better use"
      ],
      "metadata": {
        "id": "-VnDeacco5Rq"
      }
    },
    {
      "cell_type": "code",
      "source": [
        "from math import factorial\n",
        "def pascal_triangle(n):\n",
        "    for i in range(n):\n",
        "        for j in range(i + 1):\n",
        "            # nCr = n!/((n-r)!*r!)\n",
        "            print(factorial(i) // (factorial(j) * factorial(i - j)), end=\" \")\n",
        "\n",
        "        # for new line\n",
        "        print()\n",
        "pascal_triangle(5)"
      ],
      "metadata": {
        "id": "ni8_DFblpI-q",
        "colab": {
          "base_uri": "https://localhost:8080/"
        },
        "outputId": "43275db7-b860-4ed9-f98a-16d41ab80469"
      },
      "execution_count": null,
      "outputs": [
        {
          "output_type": "stream",
          "name": "stdout",
          "text": [
            "1 \n",
            "1 1 \n",
            "1 2 1 \n",
            "1 3 3 1 \n",
            "1 4 6 4 1 \n"
          ]
        }
      ]
    },
    {
      "cell_type": "markdown",
      "source": [
        "# In-class strings"
      ],
      "metadata": {
        "id": "iHXDeYnY2QGX"
      }
    },
    {
      "cell_type": "markdown",
      "source": [
        "Write a function transform_string(str) to reverse the input string if its length is a multiple of 4, or remove all characters with even indices otherwise."
      ],
      "metadata": {
        "id": "f4UAcjyH-8Cg"
      }
    },
    {
      "cell_type": "code",
      "source": [
        "def transform_string(s):\n",
        "  i = len(s) - 1\n",
        "  newstr = ''\n",
        "  if (i + 1) % 4 == 0:\n",
        "    while i >= 0:\n",
        "      newstr += s[i]\n",
        "      i -= 1\n",
        "  else:\n",
        "    for i in range(i + 1):\n",
        "      if i % 2 == 1:\n",
        "        newstr += s[i]\n",
        "  return newstr\n",
        "print(transform_string('DHBKHN'))\n",
        "print(transform_string('Dai hoc Bach Khoa Ha Noi'))"
      ],
      "metadata": {
        "colab": {
          "base_uri": "https://localhost:8080/"
        },
        "id": "BRDV-eeL-_U_",
        "outputId": "a05d8bd0-76ff-4e44-c52b-c82a349ccbb3"
      },
      "execution_count": null,
      "outputs": [
        {
          "output_type": "stream",
          "name": "stdout",
          "text": [
            "HKN\n",
            "ioN aH aohK hcaB coh iaD\n"
          ]
        }
      ]
    },
    {
      "cell_type": "markdown",
      "source": [
        "Write a function last_repeat(str) to return the last non-space repeated character in the input string. The function returns 'None' if there is no such a repeated character.\n",
        "\n"
      ],
      "metadata": {
        "id": "m_ppvGLe_fzO"
      }
    },
    {
      "cell_type": "code",
      "source": [
        "def last_repeat(s):\n",
        "    char_appear=[]\n",
        "    counts={}\n",
        "    s=s.strip().replace(' ','')\n",
        "    for c in s:\n",
        "        if c in counts:\n",
        "            counts[c]+=1\n",
        "        else:\n",
        "            counts[c]=1\n",
        "    for c in s:\n",
        "        if counts[c]>1:\n",
        "            char_appear.append(c)\n",
        "    n=len(char_appear)\n",
        "    if n>=1:\n",
        "        return char_appear[n - 1]\n",
        "    else:\n",
        "        return None\n",
        "print(last_repeat(' Dai hoc Bach khoa  '))\n",
        "print(last_repeat('BKHN'))"
      ],
      "metadata": {
        "colab": {
          "base_uri": "https://localhost:8080/"
        },
        "id": "oBCG1X2__o08",
        "outputId": "93b9e981-653f-407f-8d35-d3e567f1056b"
      },
      "execution_count": null,
      "outputs": [
        {
          "output_type": "stream",
          "name": "stdout",
          "text": [
            "a\n",
            "None\n"
          ]
        }
      ]
    },
    {
      "cell_type": "markdown",
      "source": [
        "# Practice 3: Part 2-Homework\n"
      ],
      "metadata": {
        "id": "GKmB29NfCNd_"
      }
    },
    {
      "cell_type": "markdown",
      "source": [
        "Write a recursive function display_pascal_triangle(n) to display a Pascal triangle with n rows, where n is a given positive integer.\n",
        "\n",
        "The i-th row contains n-i spaces followed by Binomial coefficients C(0,i-1), C(1,i-1),..., C(i-1,i-1), which are separated by spaces, i = 1, 2,..., n"
      ],
      "metadata": {
        "id": "yJNjbEB8CVJa"
      }
    },
    {
      "cell_type": "code",
      "source": [
        "from math import factorial\n",
        "def display_pascal_triangle(n):\n",
        "    for i in range(n-1):\n",
        "        print((n-i-2)*' ',end=' ')\n",
        "        for j in range(i+1):\n",
        "            print((factorial(i)//(factorial(j)*factorial(i-j))),end=' ')\n",
        "        print()\n",
        "    for j in range(n):\n",
        "        print((factorial(n-1) // (factorial(j) * factorial(n-1 - j))), end=' ')\n",
        "print(display_pascal_triangle(6))        "
      ],
      "metadata": {
        "colab": {
          "base_uri": "https://localhost:8080/"
        },
        "id": "SMZnONU8Cha3",
        "outputId": "442d6df0-5806-4a51-bf2d-89dbb72a4422"
      },
      "execution_count": null,
      "outputs": [
        {
          "output_type": "stream",
          "name": "stdout",
          "text": [
            "     1 \n",
            "    1 1 \n",
            "   1 2 1 \n",
            "  1 3 3 1 \n",
            " 1 4 6 4 1 \n",
            "1 5 10 10 5 1 None\n"
          ]
        }
      ]
    },
    {
      "cell_type": "markdown",
      "source": [
        "Exercise3: The Tower of Hanoi is a mathematical problem that consists of three rods and multiple disks. Initially, all the disks are placed on one rod, one over the other in ascending order of size similar to a cone-shaped tower.\n",
        "\n",
        "The objective of this problem is to move the stack of disks from the initial rod to another rod, following these rules:\n",
        "\n",
        "A disk cannot be placed on top of a smaller disk\n",
        "No disk can be placed on top of the smaller disk.\n",
        "The goal is to move all the disks from the leftmost rod to the rightmost rod.\n",
        "\n",
        "Your task is to write a recursive function hanoi_tower(n) to calculate the minimum moves that need to be performed to achieve the goal"
      ],
      "metadata": {
        "id": "K6kk3cvEC-mG"
      }
    },
    {
      "cell_type": "code",
      "source": [],
      "metadata": {
        "id": "RMJDk3GmDKJH"
      },
      "execution_count": null,
      "outputs": []
    },
    {
      "cell_type": "markdown",
      "source": [
        "# Chapter5: Dictionaries"
      ],
      "metadata": {
        "id": "66_j_-3DROLF"
      }
    },
    {
      "cell_type": "markdown",
      "source": [
        "Ex2: You are given a text. Write a program to print all the words in the text, one for each line. Words should be sorted in descending order of their number of occurrences in the text. Those words with the same number of occurrences should be sorted in lexicographic order."
      ],
      "metadata": {
        "id": "4Dgo58x9Rmre"
      }
    },
    {
      "cell_type": "code",
      "source": [
        "counts={}\n",
        "text = []\n",
        "while True:\n",
        "    line=input()\n",
        "    if line:\n",
        "        text.append(line)\n",
        "    else:\n",
        "        break\n",
        "print(text)\n",
        "for i in range(len(text)):\n",
        "    for word in text[i].split():\n",
        "        counts[word]=counts.get(word,0)+1\n",
        "to_sort=[(-v,k) for (k,v) in counts.items()]\n",
        "for c, word in sorted(to_sort):\n",
        "     print(word)"
      ],
      "metadata": {
        "id": "Wk9W4EE2lp3B"
      },
      "execution_count": null,
      "outputs": []
    },
    {
      "cell_type": "markdown",
      "source": [
        "You are given a text. A word is a sequence of non-blank consecutive characters. Words are separated by one or more spaces or end-of-line characters. For each word from this text, you have to count how many times it has occurred earlier in this text."
      ],
      "metadata": {
        "id": "Q1zF_GKulqWe"
      }
    },
    {
      "cell_type": "code",
      "source": [
        "counts={}\n",
        "text = []\n",
        "while True:\n",
        "    try:\n",
        "        text.append(input())\n",
        "    except:\n",
        "        break\n",
        "for i in range(len(text)):\n",
        "    for word in text[i].split():\n",
        "        counts[word]=counts.get(word,0)+1\n",
        "        print(counts[word]-1,end=' ')"
      ],
      "metadata": {
        "id": "R1LP3c_6o7d0"
      },
      "execution_count": null,
      "outputs": []
    },
    {
      "cell_type": "markdown",
      "source": [
        "# Practice 5: Classes, objects and exceptions"
      ],
      "metadata": {
        "id": "Y9qiHO9AmEWQ"
      }
    },
    {
      "cell_type": "markdown",
      "source": [
        "First, we have a base class named Figure:\n",
        "\n",
        "import math\n",
        "\n",
        "class Figure:\n",
        "    def perimeter(self):\n",
        "        pass\n",
        "    \n",
        "    def area(self):\n",
        "        pass\n",
        "\n",
        "Write 3 classes named Rectangle, Circle, and Triangle that overwrite the perimeter and area methods of class Figure. You should also write an initialization method for each class\n",
        "\n",
        "Rectangle should have 2 attributes: width and height\n",
        "Circle should have 1 attribute: radius\n",
        "Triangle should have 3 attributes: a, b, and c, which are the lengths of 3 sides\n",
        "Exception:\n",
        "\n",
        "Raise LengthException if any of the attributes above is less than or equal to 0\n",
        "Raise InvalidTriangleException if the 3 lengths do not create a valid triangle\n",
        "When an exception is caught (except LengthException as e:), print out the message that contains the type of that exception: print(str(type(e)) + ' was raised)\n",
        "For example:\n",
        "\n",
        "Test\tResult\n",
        "rec = Rectangle(-1, 2)\n",
        "tri = Triangle(3, 4, 7)\n",
        "<class '__main__.LengthException'> was raised\n",
        "<class '__main__.InvalidTriangleException'> was raised\n",
        "rec = Rectangle(1, 2)\n",
        "tri = Triangle(3, 4, 5)\n",
        "print(rec.perimeter())\n",
        "print(tri.area())\n",
        "6\n",
        "6.0"
      ],
      "metadata": {
        "id": "YSf5jFqimKG3"
      }
    },
    {
      "cell_type": "code",
      "source": [
        "from math import sqrt\n",
        "from math import pi\n",
        "\n",
        "\n",
        "class Figure:\n",
        "    def perimeter(self):\n",
        "        pass\n",
        "\n",
        "    def area(self):\n",
        "        pass\n",
        "class LengthException(Exception):\n",
        "    pass\n",
        "class InvalidTriangleException(Exception):\n",
        "    pass\n",
        "\n",
        "class Rectangle(Figure):\n",
        "    def __init__(self, width, height):\n",
        "        try:\n",
        "            if width>0 and height>0:\n",
        "                self.width=width\n",
        "                self.height=height\n",
        "            else:\n",
        "                raise LengthException\n",
        "        except LengthException as e:\n",
        "            print(str(type(e))+' was raised')\n",
        "    def perimeter(self):\n",
        "        return (self.width+self.height)*2\n",
        "    def area(self):\n",
        "        return self.width*self.height\n",
        "class Circle(Figure):\n",
        "    def __init__(self,r):\n",
        "        try:\n",
        "            if r>0:\n",
        "                self.r=r\n",
        "            else:\n",
        "                raise LengthException\n",
        "        except LengthException as e:\n",
        "            print(print(str(type(e))+' was raised'))\n",
        "    def perimeter(self):\n",
        "        return 2*pi*self.r\n",
        "    def area(self):\n",
        "        return pi*self.r*self.r\n",
        "\n",
        "class Triangle(Figure):\n",
        "    def __init__(self,a,b,c):\n",
        "        try:\n",
        "            if (a>0) and (b>0) and (c>0):\n",
        "                if (a+b)>c and (b+c)>a and (c+a)>b:\n",
        "                    self.a=a\n",
        "                    self.b=b\n",
        "                    self.c=c\n",
        "                else:\n",
        "                    raise InvalidTriangleException\n",
        "            else:\n",
        "                raise LengthException\n",
        "        except LengthException as e:\n",
        "            print(str(type(e)) + ' was raised')\n",
        "        except InvalidTriangleException as e:\n",
        "            print(str(type(e)) + ' was raised')\n",
        "\n",
        "    def perimeter(self):\n",
        "        return self.a+self.b+self.c\n",
        "    def area(self):\n",
        "        a,b,c=self.a, self.b, self.c\n",
        "        return sqrt((a+b+c)*(a+b-c)*(b+c-a)*(c+a-b)/16)\n",
        "rec = Rectangle(1, 2)\n",
        "tri = Triangle(3, 4, 5)\n",
        "print(rec.perimeter())\n",
        "print(tri.area())        "
      ],
      "metadata": {
        "colab": {
          "base_uri": "https://localhost:8080/"
        },
        "id": "0u2NNNilmT02",
        "outputId": "c01e87c5-8d47-481f-c8e4-0392f850284f"
      },
      "execution_count": null,
      "outputs": [
        {
          "output_type": "stream",
          "name": "stdout",
          "text": [
            "6\n",
            "6.0\n"
          ]
        }
      ]
    },
    {
      "cell_type": "markdown",
      "source": [
        "Write 3 methods inside Triangle class to get the heights of the triangle. It should be named get_height_a, get_height_b, and get_height_c\n",
        "\n",
        "For example:\n",
        "\n",
        "Test\tResult\n",
        "t = Triangle(3, 4, 5)\n",
        "print(t.get_height_a(), t.get_height_b(), t.get_height_c())\n",
        "4.0 3.0 2.4\n"
      ],
      "metadata": {
        "id": "nTe-lAbGm7oN"
      }
    },
    {
      "cell_type": "code",
      "source": [
        "import math\n",
        "\n",
        "\n",
        "class Figure:\n",
        "    def perimeter(self):\n",
        "        pass\n",
        "\n",
        "    def area(self):\n",
        "        pass\n",
        "\n",
        "\n",
        "class Triangle(Figure):\n",
        "    def __init__(self, a, b, c):\n",
        "        self.a = a\n",
        "        self.b = b\n",
        "        self.c = c\n",
        "\n",
        "    def perimeter(self):\n",
        "        return self.a + self.b + self.c\n",
        "\n",
        "    def area(self):\n",
        "        p = self.perimeter() / 2\n",
        "        return math.sqrt(p * (p - self.a) * (p - self.b) * (p - self.c))\n",
        "\n",
        "    def get_height_a(self):\n",
        "        return 2 * self.area() / self.a\n",
        "\n",
        "    def get_height_b(self):\n",
        "        return 2 * self.area() / self.b\n",
        "\n",
        "    def get_height_c(self):\n",
        "        return 2 * self.area() / self.c"
      ],
      "metadata": {
        "id": "dBt2zPsbm8P6"
      },
      "execution_count": null,
      "outputs": []
    },
    {
      "cell_type": "markdown",
      "source": [
        "Write 2 methods set_width and set_height inside class Rectangle to change the width and height of the rectangle object"
      ],
      "metadata": {
        "id": "q3-u1L_fnmIq"
      }
    },
    {
      "cell_type": "code",
      "source": [
        "import math\n",
        "\n",
        "\n",
        "class Figure:\n",
        "    def perimeter(self):\n",
        "        pass\n",
        "\n",
        "    def area(self):\n",
        "        pass\n",
        "\n",
        "\n",
        "class Rectangle(Figure):\n",
        "    def __init__(self, width, height):\n",
        "        self.width = width\n",
        "        self.height = height\n",
        "\n",
        "    def perimeter(self):\n",
        "        return (self.width + self.height) * 2\n",
        "\n",
        "    def area(self):\n",
        "        return self.width * self.height\n",
        "    def set_width(self,new_width):\n",
        "        self.width=new_width\n",
        "    def set_height(self,new_height):\n",
        "        self.height=new_height\n",
        "        \n",
        "        "
      ],
      "metadata": {
        "id": "4fFigUApnq2y"
      },
      "execution_count": null,
      "outputs": []
    },
    {
      "cell_type": "markdown",
      "source": [
        "Define a new class Square that inherits from class Rectangle. Write ONLY THE INITIALIZATION METHOD for that class with one input parameter (which is the side of the square), so that the methods perimeter and area can still be used. The Square class still uses the attributes width and height from the class Rectangle. The class Rectangle is inside Rectangle.py (code from the previous exercise) which has already been uploaded to the system."
      ],
      "metadata": {
        "id": "djjH_LN7qm96"
      }
    },
    {
      "cell_type": "code",
      "source": [
        "from Rectangle import Rectangle\n",
        "\n",
        "class Square(Rectangle):\n",
        "    def __init__(self, side_length):\n",
        "        Rectangle.__init__(self, side_length, side_length"
      ],
      "metadata": {
        "id": "kYpOpLlyqrSw"
      },
      "execution_count": null,
      "outputs": []
    },
    {
      "cell_type": "markdown",
      "source": [],
      "metadata": {
        "id": "0iHafHA0q1uu"
      }
    },
    {
      "cell_type": "markdown",
      "source": [
        "# Practice 4"
      ],
      "metadata": {
        "id": "f47Gw9lx_p--"
      }
    },
    {
      "cell_type": "code",
      "source": [
        "import numpy as np\n",
        "\n",
        "a = np.arange(1, 21)\n",
        "\n",
        "a = (((a - 1) * 5) % 19 + 1).reshape(4, 5)\n",
        "a[3, 4] = 20\n",
        "print(a)"
      ],
      "metadata": {
        "colab": {
          "base_uri": "https://localhost:8080/"
        },
        "id": "I0UNwJ3o_vNz",
        "outputId": "6b171523-7620-4e2e-b918-15ef2e6167ab"
      },
      "execution_count": null,
      "outputs": [
        {
          "output_type": "stream",
          "name": "stdout",
          "text": [
            "[[ 1  6 11 16  2]\n",
            " [ 7 12 17  3  8]\n",
            " [13 18  4  9 14]\n",
            " [19  5 10 15 20]]\n"
          ]
        }
      ]
    },
    {
      "cell_type": "code",
      "source": [
        "import numpy as np\n",
        "def convert(a):\n",
        "    res = np.array(a[0] / np.sum(a[0]))\n",
        "    \n",
        "    for i in range(1, a.shape[0]):\n",
        "        res = np.concatenate( (res, a[i] / np.sum(a[i])))\n",
        "    return res.reshape(a.shape)\n",
        "print(convert(np.arange(0, 9).reshape(3, 3)))    "
      ],
      "metadata": {
        "colab": {
          "base_uri": "https://localhost:8080/"
        },
        "id": "5ubxHHSRU16k",
        "outputId": "0f56e426-39f9-4f6a-cbe1-22f7cc4699ae"
      },
      "execution_count": null,
      "outputs": [
        {
          "output_type": "stream",
          "name": "stdout",
          "text": [
            "[[0.         0.33333333 0.66666667]\n",
            " [0.25       0.33333333 0.41666667]\n",
            " [0.28571429 0.33333333 0.38095238]]\n"
          ]
        }
      ]
    },
    {
      "cell_type": "code",
      "source": [
        "import numpy as np\n",
        "\n",
        "b = np.array([10, 100])\n",
        "print(b[:,None])"
      ],
      "metadata": {
        "id": "Vpbimtg3ZQAV",
        "colab": {
          "base_uri": "https://localhost:8080/"
        },
        "outputId": "6065237e-4bd9-4eed-8433-1f2a38d63534"
      },
      "execution_count": null,
      "outputs": [
        {
          "output_type": "stream",
          "name": "stdout",
          "text": [
            "[[ 10]\n",
            " [100]]\n"
          ]
        }
      ]
    }
  ]
}